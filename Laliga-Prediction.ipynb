{
 "cells": [
  {
   "cell_type": "code",
   "execution_count": null,
   "metadata": {},
   "outputs": [
    {
     "ename": "",
     "evalue": "",
     "output_type": "error",
     "traceback": [
      "\u001b[1;31mRunning cells with 'c:\\Python311\\python.exe' requires the ipykernel package.\n",
      "\u001b[1;31mRun the following command to install 'ipykernel' into the Python environment. \n",
      "\u001b[1;31mCommand: 'c:/Python311/python.exe -m pip install ipykernel -U --user --force-reinstall'"
     ]
    }
   ],
   "source": [
    "import pandas as pd\n",
    "import numpy as np\n",
    "import matplotlib.pyplot as plt\n",
    "import seaborn as sns\n",
    "from sklearn.model_selection import train_test_split\n",
    "from sklearn.ensemble import RandomForestClassifier"
   ]
  },
  {
   "cell_type": "code",
   "execution_count": 3,
   "metadata": {},
   "outputs": [],
   "source": [
    "#load data\n",
    "results = pd.read_csv('c.csv')"
   ]
  },
  {
   "cell_type": "code",
   "execution_count": 4,
   "metadata": {},
   "outputs": [
    {
     "data": {
      "text/html": [
       "<div>\n",
       "<style scoped>\n",
       "    .dataframe tbody tr th:only-of-type {\n",
       "        vertical-align: middle;\n",
       "    }\n",
       "\n",
       "    .dataframe tbody tr th {\n",
       "        vertical-align: top;\n",
       "    }\n",
       "\n",
       "    .dataframe thead th {\n",
       "        text-align: right;\n",
       "    }\n",
       "</style>\n",
       "<table border=\"1\" class=\"dataframe\">\n",
       "  <thead>\n",
       "    <tr style=\"text-align: right;\">\n",
       "      <th></th>\n",
       "      <th>home_team</th>\n",
       "      <th>away_team</th>\n",
       "      <th>home_score</th>\n",
       "      <th>away_score</th>\n",
       "      <th>Total_Shots</th>\n",
       "      <th>Possession</th>\n",
       "      <th>Player_Rating</th>\n",
       "    </tr>\n",
       "  </thead>\n",
       "  <tbody>\n",
       "    <tr>\n",
       "      <th>0</th>\n",
       "      <td>Real Madrid</td>\n",
       "      <td>Ath.Bilbao</td>\n",
       "      <td>3</td>\n",
       "      <td>0</td>\n",
       "      <td>0.726087</td>\n",
       "      <td>0.120522</td>\n",
       "      <td>0.409565</td>\n",
       "    </tr>\n",
       "    <tr>\n",
       "      <th>1</th>\n",
       "      <td>Real Madrid</td>\n",
       "      <td>Barcelona</td>\n",
       "      <td>0</td>\n",
       "      <td>1</td>\n",
       "      <td>0.482609</td>\n",
       "      <td>0.117043</td>\n",
       "      <td>0.340000</td>\n",
       "    </tr>\n",
       "    <tr>\n",
       "      <th>2</th>\n",
       "      <td>Real Madrid</td>\n",
       "      <td>Ath.Madrid</td>\n",
       "      <td>0</td>\n",
       "      <td>0</td>\n",
       "      <td>0.413043</td>\n",
       "      <td>0.117739</td>\n",
       "      <td>0.340000</td>\n",
       "    </tr>\n",
       "    <tr>\n",
       "      <th>3</th>\n",
       "      <td>Real Madrid</td>\n",
       "      <td>Valencia</td>\n",
       "      <td>2</td>\n",
       "      <td>0</td>\n",
       "      <td>0.691304</td>\n",
       "      <td>0.120522</td>\n",
       "      <td>0.360870</td>\n",
       "    </tr>\n",
       "    <tr>\n",
       "      <th>4</th>\n",
       "      <td>Real Madrid</td>\n",
       "      <td>Sevilla</td>\n",
       "      <td>2</td>\n",
       "      <td>0</td>\n",
       "      <td>0.795652</td>\n",
       "      <td>0.121217</td>\n",
       "      <td>0.371304</td>\n",
       "    </tr>\n",
       "  </tbody>\n",
       "</table>\n",
       "</div>"
      ],
      "text/plain": [
       "     home_team   away_team  home_score  away_score  Total_Shots  Possession  \\\n",
       "0  Real Madrid  Ath.Bilbao           3           0     0.726087    0.120522   \n",
       "1  Real Madrid   Barcelona           0           1     0.482609    0.117043   \n",
       "2  Real Madrid  Ath.Madrid           0           0     0.413043    0.117739   \n",
       "3  Real Madrid    Valencia           2           0     0.691304    0.120522   \n",
       "4  Real Madrid     Sevilla           2           0     0.795652    0.121217   \n",
       "\n",
       "   Player_Rating  \n",
       "0       0.409565  \n",
       "1       0.340000  \n",
       "2       0.340000  \n",
       "3       0.360870  \n",
       "4       0.371304  "
      ]
     },
     "execution_count": 4,
     "metadata": {},
     "output_type": "execute_result"
    }
   ],
   "source": [
    "results.head()"
   ]
  },
  {
   "cell_type": "code",
   "execution_count": 5,
   "metadata": {
    "scrolled": false
   },
   "outputs": [
    {
     "data": {
      "text/html": [
       "<div>\n",
       "<style scoped>\n",
       "    .dataframe tbody tr th:only-of-type {\n",
       "        vertical-align: middle;\n",
       "    }\n",
       "\n",
       "    .dataframe tbody tr th {\n",
       "        vertical-align: top;\n",
       "    }\n",
       "\n",
       "    .dataframe thead th {\n",
       "        text-align: right;\n",
       "    }\n",
       "</style>\n",
       "<table border=\"1\" class=\"dataframe\">\n",
       "  <thead>\n",
       "    <tr style=\"text-align: right;\">\n",
       "      <th></th>\n",
       "      <th>home_team</th>\n",
       "      <th>away_team</th>\n",
       "      <th>home_score</th>\n",
       "      <th>away_score</th>\n",
       "      <th>Total_Shots</th>\n",
       "      <th>Possession</th>\n",
       "      <th>Player_Rating</th>\n",
       "      <th>winning_team</th>\n",
       "      <th>goal_difference</th>\n",
       "    </tr>\n",
       "  </thead>\n",
       "  <tbody>\n",
       "    <tr>\n",
       "      <th>0</th>\n",
       "      <td>Real Madrid</td>\n",
       "      <td>Ath.Bilbao</td>\n",
       "      <td>3</td>\n",
       "      <td>0</td>\n",
       "      <td>0.726087</td>\n",
       "      <td>0.120522</td>\n",
       "      <td>0.409565</td>\n",
       "      <td>Real Madrid</td>\n",
       "      <td>3</td>\n",
       "    </tr>\n",
       "    <tr>\n",
       "      <th>1</th>\n",
       "      <td>Real Madrid</td>\n",
       "      <td>Barcelona</td>\n",
       "      <td>0</td>\n",
       "      <td>1</td>\n",
       "      <td>0.482609</td>\n",
       "      <td>0.117043</td>\n",
       "      <td>0.340000</td>\n",
       "      <td>Barcelona</td>\n",
       "      <td>1</td>\n",
       "    </tr>\n",
       "    <tr>\n",
       "      <th>2</th>\n",
       "      <td>Real Madrid</td>\n",
       "      <td>Ath.Madrid</td>\n",
       "      <td>0</td>\n",
       "      <td>0</td>\n",
       "      <td>0.413043</td>\n",
       "      <td>0.117739</td>\n",
       "      <td>0.340000</td>\n",
       "      <td>Draw</td>\n",
       "      <td>0</td>\n",
       "    </tr>\n",
       "    <tr>\n",
       "      <th>3</th>\n",
       "      <td>Real Madrid</td>\n",
       "      <td>Valencia</td>\n",
       "      <td>2</td>\n",
       "      <td>0</td>\n",
       "      <td>0.691304</td>\n",
       "      <td>0.120522</td>\n",
       "      <td>0.360870</td>\n",
       "      <td>Real Madrid</td>\n",
       "      <td>2</td>\n",
       "    </tr>\n",
       "    <tr>\n",
       "      <th>4</th>\n",
       "      <td>Real Madrid</td>\n",
       "      <td>Sevilla</td>\n",
       "      <td>2</td>\n",
       "      <td>0</td>\n",
       "      <td>0.795652</td>\n",
       "      <td>0.121217</td>\n",
       "      <td>0.371304</td>\n",
       "      <td>Real Madrid</td>\n",
       "      <td>2</td>\n",
       "    </tr>\n",
       "  </tbody>\n",
       "</table>\n",
       "</div>"
      ],
      "text/plain": [
       "     home_team   away_team  home_score  away_score  Total_Shots  Possession  \\\n",
       "0  Real Madrid  Ath.Bilbao           3           0     0.726087    0.120522   \n",
       "1  Real Madrid   Barcelona           0           1     0.482609    0.117043   \n",
       "2  Real Madrid  Ath.Madrid           0           0     0.413043    0.117739   \n",
       "3  Real Madrid    Valencia           2           0     0.691304    0.120522   \n",
       "4  Real Madrid     Sevilla           2           0     0.795652    0.121217   \n",
       "\n",
       "   Player_Rating winning_team  goal_difference  \n",
       "0       0.409565  Real Madrid                3  \n",
       "1       0.340000    Barcelona                1  \n",
       "2       0.340000         Draw                0  \n",
       "3       0.360870  Real Madrid                2  \n",
       "4       0.371304  Real Madrid                2  "
      ]
     },
     "execution_count": 5,
     "metadata": {},
     "output_type": "execute_result"
    }
   ],
   "source": [
    "#Adding goal difference and establishing who is the winner \n",
    "winner = []\n",
    "for i in range (len(results['home_team'])):\n",
    "    if results ['home_score'][i] > results['away_score'][i]:\n",
    "        winner.append(results['home_team'][i])\n",
    "    elif results['home_score'][i] < results ['away_score'][i]:\n",
    "        winner.append(results['away_team'][i])\n",
    "    else:\n",
    "        winner.append('Draw')\n",
    "results['winning_team'] = winner\n",
    "\n",
    "#adding goal difference column\n",
    "results['goal_difference'] = np.absolute(results['home_score'] - results['away_score'])\n",
    "\n",
    "results.head()"
   ]
  },
  {
   "cell_type": "code",
   "execution_count": 6,
   "metadata": {
    "scrolled": true
   },
   "outputs": [
    {
     "data": {
      "text/html": [
       "<div>\n",
       "<style scoped>\n",
       "    .dataframe tbody tr th:only-of-type {\n",
       "        vertical-align: middle;\n",
       "    }\n",
       "\n",
       "    .dataframe tbody tr th {\n",
       "        vertical-align: top;\n",
       "    }\n",
       "\n",
       "    .dataframe thead th {\n",
       "        text-align: right;\n",
       "    }\n",
       "</style>\n",
       "<table border=\"1\" class=\"dataframe\">\n",
       "  <thead>\n",
       "    <tr style=\"text-align: right;\">\n",
       "      <th></th>\n",
       "      <th>home_team</th>\n",
       "      <th>away_team</th>\n",
       "      <th>home_score</th>\n",
       "      <th>away_score</th>\n",
       "      <th>Total_Shots</th>\n",
       "      <th>Possession</th>\n",
       "      <th>Player_Rating</th>\n",
       "      <th>winning_team</th>\n",
       "      <th>goal_difference</th>\n",
       "    </tr>\n",
       "  </thead>\n",
       "  <tbody>\n",
       "    <tr>\n",
       "      <th>1</th>\n",
       "      <td>Real Madrid</td>\n",
       "      <td>Barcelona</td>\n",
       "      <td>0</td>\n",
       "      <td>1</td>\n",
       "      <td>0.482609</td>\n",
       "      <td>0.117043</td>\n",
       "      <td>0.340000</td>\n",
       "      <td>Barcelona</td>\n",
       "      <td>1</td>\n",
       "    </tr>\n",
       "    <tr>\n",
       "      <th>10</th>\n",
       "      <td>Barcelona</td>\n",
       "      <td>Real Madrid</td>\n",
       "      <td>5</td>\n",
       "      <td>1</td>\n",
       "      <td>0.447826</td>\n",
       "      <td>0.116348</td>\n",
       "      <td>0.326087</td>\n",
       "      <td>Barcelona</td>\n",
       "      <td>4</td>\n",
       "    </tr>\n",
       "    <tr>\n",
       "      <th>18</th>\n",
       "      <td>Barcelona</td>\n",
       "      <td>Ath.Bilbao</td>\n",
       "      <td>1</td>\n",
       "      <td>1</td>\n",
       "      <td>0.691304</td>\n",
       "      <td>0.118435</td>\n",
       "      <td>0.360870</td>\n",
       "      <td>Draw</td>\n",
       "      <td>0</td>\n",
       "    </tr>\n",
       "    <tr>\n",
       "      <th>19</th>\n",
       "      <td>Barcelona</td>\n",
       "      <td>Ath.Madrid</td>\n",
       "      <td>2</td>\n",
       "      <td>0</td>\n",
       "      <td>0.552174</td>\n",
       "      <td>0.120870</td>\n",
       "      <td>0.395652</td>\n",
       "      <td>Barcelona</td>\n",
       "      <td>2</td>\n",
       "    </tr>\n",
       "    <tr>\n",
       "      <th>20</th>\n",
       "      <td>Barcelona</td>\n",
       "      <td>Valencia</td>\n",
       "      <td>2</td>\n",
       "      <td>2</td>\n",
       "      <td>0.691304</td>\n",
       "      <td>0.120174</td>\n",
       "      <td>0.360870</td>\n",
       "      <td>Draw</td>\n",
       "      <td>0</td>\n",
       "    </tr>\n",
       "  </tbody>\n",
       "</table>\n",
       "</div>"
      ],
      "text/plain": [
       "      home_team    away_team  home_score  away_score  Total_Shots  Possession  \\\n",
       "1   Real Madrid    Barcelona           0           1     0.482609    0.117043   \n",
       "10    Barcelona  Real Madrid           5           1     0.447826    0.116348   \n",
       "18    Barcelona   Ath.Bilbao           1           1     0.691304    0.118435   \n",
       "19    Barcelona   Ath.Madrid           2           0     0.552174    0.120870   \n",
       "20    Barcelona     Valencia           2           2     0.691304    0.120174   \n",
       "\n",
       "    Player_Rating winning_team  goal_difference  \n",
       "1        0.340000    Barcelona                1  \n",
       "10       0.326087    Barcelona                4  \n",
       "18       0.360870         Draw                0  \n",
       "19       0.395652    Barcelona                2  \n",
       "20       0.360870         Draw                0  "
      ]
     },
     "execution_count": 6,
     "metadata": {},
     "output_type": "execute_result"
    }
   ],
   "source": [
    "df = results[(results['home_team'] == 'Barcelona') | (results['away_team'] == 'Barcelona')]\n",
    "Barcelona = df.iloc[:]\n",
    "Barcelona.head()"
   ]
  },
  {
   "cell_type": "code",
   "execution_count": 7,
   "metadata": {},
   "outputs": [
    {
     "data": {
      "text/plain": [
       "<AxesSubplot:xlabel='Barcelona_Results', ylabel='count'>"
      ]
     },
     "execution_count": 7,
     "metadata": {},
     "output_type": "execute_result"
    },
    {
     "data": {
      "image/png": "[encoded data removed]",
      "text/plain": [
       "<Figure size 770.4x451.44 with 1 Axes>"
      ]
     },
     "metadata": {
      "needs_background": "light"
     },
     "output_type": "display_data"
    }
   ],
   "source": [
    "wins = []\n",
    "for row in Barcelona['winning_team']:\n",
    "    if row != 'Barcelona' and row != 'Draw':\n",
    "        wins.append('Loss')\n",
    "    else:\n",
    "        wins.append(row)\n",
    "winsdf= pd.DataFrame(wins, columns=[ 'Barcelona_Results'])\n",
    "\n",
    "#plotting\n",
    "fig, ax = plt.subplots(1)\n",
    "fig.set_size_inches(10.7, 6.27)\n",
    "sns.set(style='darkgrid')\n",
    "sns.countplot(x='Barcelona_Results', data=winsdf)"
   ]
  },
  {
   "cell_type": "code",
   "execution_count": 8,
   "metadata": {},
   "outputs": [],
   "source": [
    "# wins is a good metric to analyze and predict outcomes of matches in the tournament \n",
    "#tournament and venue won't add much to our predictions\n",
    "#historical match records will be used \n"
   ]
  },
  {
   "cell_type": "code",
   "execution_count": 9,
   "metadata": {},
   "outputs": [
    {
     "data": {
      "text/plain": [
       "home_team          900\n",
       "away_team          900\n",
       "home_score         900\n",
       "away_score         900\n",
       "Total_Shots        900\n",
       "Possession         900\n",
       "Player_Rating      900\n",
       "winning_team       900\n",
       "goal_difference    900\n",
       "dtype: int64"
      ]
     },
     "execution_count": 9,
     "metadata": {},
     "output_type": "execute_result"
    }
   ],
   "source": [
    "#narrowing to team patcipating in the world cup\n",
    "laliga_teams = ['Ath.Bilbao','Barcelona','Ath.Madrid','Valencia','Sevilla','Espanyol','Real Sociedad','Villareal','Eibar','Real Madrid']\n",
    "df_teams_home = results[results['home_team'].isin(laliga_teams)]\n",
    "df_teams_away = results[results['away_team'].isin(laliga_teams)]\n",
    "df_teams = pd.concat((df_teams_home, df_teams_away))\n",
    "df_teams.drop_duplicates()\n",
    "df_teams.count()"
   ]
  },
  {
   "cell_type": "code",
   "execution_count": 10,
   "metadata": {},
   "outputs": [
    {
     "data": {
      "text/html": [
       "<div>\n",
       "<style scoped>\n",
       "    .dataframe tbody tr th:only-of-type {\n",
       "        vertical-align: middle;\n",
       "    }\n",
       "\n",
       "    .dataframe tbody tr th {\n",
       "        vertical-align: top;\n",
       "    }\n",
       "\n",
       "    .dataframe thead th {\n",
       "        text-align: right;\n",
       "    }\n",
       "</style>\n",
       "<table border=\"1\" class=\"dataframe\">\n",
       "  <thead>\n",
       "    <tr style=\"text-align: right;\">\n",
       "      <th></th>\n",
       "      <th>home_team</th>\n",
       "      <th>away_team</th>\n",
       "      <th>home_score</th>\n",
       "      <th>away_score</th>\n",
       "      <th>Total_Shots</th>\n",
       "      <th>Possession</th>\n",
       "      <th>Player_Rating</th>\n",
       "      <th>winning_team</th>\n",
       "      <th>goal_difference</th>\n",
       "    </tr>\n",
       "  </thead>\n",
       "  <tbody>\n",
       "    <tr>\n",
       "      <th>0</th>\n",
       "      <td>Real Madrid</td>\n",
       "      <td>Ath.Bilbao</td>\n",
       "      <td>3</td>\n",
       "      <td>0</td>\n",
       "      <td>0.726087</td>\n",
       "      <td>0.120522</td>\n",
       "      <td>0.409565</td>\n",
       "      <td>Real Madrid</td>\n",
       "      <td>3</td>\n",
       "    </tr>\n",
       "    <tr>\n",
       "      <th>1</th>\n",
       "      <td>Real Madrid</td>\n",
       "      <td>Barcelona</td>\n",
       "      <td>0</td>\n",
       "      <td>1</td>\n",
       "      <td>0.482609</td>\n",
       "      <td>0.117043</td>\n",
       "      <td>0.340000</td>\n",
       "      <td>Barcelona</td>\n",
       "      <td>1</td>\n",
       "    </tr>\n",
       "    <tr>\n",
       "      <th>2</th>\n",
       "      <td>Real Madrid</td>\n",
       "      <td>Ath.Madrid</td>\n",
       "      <td>0</td>\n",
       "      <td>0</td>\n",
       "      <td>0.413043</td>\n",
       "      <td>0.117739</td>\n",
       "      <td>0.340000</td>\n",
       "      <td>Draw</td>\n",
       "      <td>0</td>\n",
       "    </tr>\n",
       "    <tr>\n",
       "      <th>3</th>\n",
       "      <td>Real Madrid</td>\n",
       "      <td>Valencia</td>\n",
       "      <td>2</td>\n",
       "      <td>0</td>\n",
       "      <td>0.691304</td>\n",
       "      <td>0.120522</td>\n",
       "      <td>0.360870</td>\n",
       "      <td>Real Madrid</td>\n",
       "      <td>2</td>\n",
       "    </tr>\n",
       "    <tr>\n",
       "      <th>4</th>\n",
       "      <td>Real Madrid</td>\n",
       "      <td>Sevilla</td>\n",
       "      <td>2</td>\n",
       "      <td>0</td>\n",
       "      <td>0.795652</td>\n",
       "      <td>0.121217</td>\n",
       "      <td>0.371304</td>\n",
       "      <td>Real Madrid</td>\n",
       "      <td>2</td>\n",
       "    </tr>\n",
       "  </tbody>\n",
       "</table>\n",
       "</div>"
      ],
      "text/plain": [
       "     home_team   away_team  home_score  away_score  Total_Shots  Possession  \\\n",
       "0  Real Madrid  Ath.Bilbao           3           0     0.726087    0.120522   \n",
       "1  Real Madrid   Barcelona           0           1     0.482609    0.117043   \n",
       "2  Real Madrid  Ath.Madrid           0           0     0.413043    0.117739   \n",
       "3  Real Madrid    Valencia           2           0     0.691304    0.120522   \n",
       "4  Real Madrid     Sevilla           2           0     0.795652    0.121217   \n",
       "\n",
       "   Player_Rating winning_team  goal_difference  \n",
       "0       0.409565  Real Madrid                3  \n",
       "1       0.340000    Barcelona                1  \n",
       "2       0.340000         Draw                0  \n",
       "3       0.360870  Real Madrid                2  \n",
       "4       0.371304  Real Madrid                2  "
      ]
     },
     "execution_count": 10,
     "metadata": {},
     "output_type": "execute_result"
    }
   ],
   "source": [
    "df_teams.head()"
   ]
  },
  {
   "cell_type": "code",
   "execution_count": 11,
   "metadata": {},
   "outputs": [
    {
     "data": {
      "text/html": [
       "<div>\n",
       "<style scoped>\n",
       "    .dataframe tbody tr th:only-of-type {\n",
       "        vertical-align: middle;\n",
       "    }\n",
       "\n",
       "    .dataframe tbody tr th {\n",
       "        vertical-align: top;\n",
       "    }\n",
       "\n",
       "    .dataframe thead th {\n",
       "        text-align: right;\n",
       "    }\n",
       "</style>\n",
       "<table border=\"1\" class=\"dataframe\">\n",
       "  <thead>\n",
       "    <tr style=\"text-align: right;\">\n",
       "      <th></th>\n",
       "      <th>home_team</th>\n",
       "      <th>away_team</th>\n",
       "      <th>Total_Shots</th>\n",
       "      <th>Possession</th>\n",
       "      <th>Player_Rating</th>\n",
       "      <th>winning_team</th>\n",
       "    </tr>\n",
       "  </thead>\n",
       "  <tbody>\n",
       "    <tr>\n",
       "      <th>0</th>\n",
       "      <td>Real Madrid</td>\n",
       "      <td>Ath.Bilbao</td>\n",
       "      <td>0.726087</td>\n",
       "      <td>0.120522</td>\n",
       "      <td>0.409565</td>\n",
       "      <td>Real Madrid</td>\n",
       "    </tr>\n",
       "    <tr>\n",
       "      <th>1</th>\n",
       "      <td>Real Madrid</td>\n",
       "      <td>Barcelona</td>\n",
       "      <td>0.482609</td>\n",
       "      <td>0.117043</td>\n",
       "      <td>0.340000</td>\n",
       "      <td>Barcelona</td>\n",
       "    </tr>\n",
       "    <tr>\n",
       "      <th>2</th>\n",
       "      <td>Real Madrid</td>\n",
       "      <td>Ath.Madrid</td>\n",
       "      <td>0.413043</td>\n",
       "      <td>0.117739</td>\n",
       "      <td>0.340000</td>\n",
       "      <td>Draw</td>\n",
       "    </tr>\n",
       "    <tr>\n",
       "      <th>3</th>\n",
       "      <td>Real Madrid</td>\n",
       "      <td>Valencia</td>\n",
       "      <td>0.691304</td>\n",
       "      <td>0.120522</td>\n",
       "      <td>0.360870</td>\n",
       "      <td>Real Madrid</td>\n",
       "    </tr>\n",
       "    <tr>\n",
       "      <th>4</th>\n",
       "      <td>Real Madrid</td>\n",
       "      <td>Sevilla</td>\n",
       "      <td>0.795652</td>\n",
       "      <td>0.121217</td>\n",
       "      <td>0.371304</td>\n",
       "      <td>Real Madrid</td>\n",
       "    </tr>\n",
       "  </tbody>\n",
       "</table>\n",
       "</div>"
      ],
      "text/plain": [
       "     home_team   away_team  Total_Shots  Possession  Player_Rating  \\\n",
       "0  Real Madrid  Ath.Bilbao     0.726087    0.120522       0.409565   \n",
       "1  Real Madrid   Barcelona     0.482609    0.117043       0.340000   \n",
       "2  Real Madrid  Ath.Madrid     0.413043    0.117739       0.340000   \n",
       "3  Real Madrid    Valencia     0.691304    0.120522       0.360870   \n",
       "4  Real Madrid     Sevilla     0.795652    0.121217       0.371304   \n",
       "\n",
       "  winning_team  \n",
       "0  Real Madrid  \n",
       "1    Barcelona  \n",
       "2         Draw  \n",
       "3  Real Madrid  \n",
       "4  Real Madrid  "
      ]
     },
     "execution_count": 11,
     "metadata": {},
     "output_type": "execute_result"
    }
   ],
   "source": [
    "#dropping columns that wll not affect matchoutcomes\n",
    "df_teams = df_teams.drop(['home_score', 'away_score','goal_difference'], axis=1)\n",
    "df_teams.head()"
   ]
  },
  {
   "cell_type": "code",
   "execution_count": 12,
   "metadata": {
    "scrolled": true
   },
   "outputs": [
    {
     "data": {
      "text/html": [
       "<div>\n",
       "<style scoped>\n",
       "    .dataframe tbody tr th:only-of-type {\n",
       "        vertical-align: middle;\n",
       "    }\n",
       "\n",
       "    .dataframe tbody tr th {\n",
       "        vertical-align: top;\n",
       "    }\n",
       "\n",
       "    .dataframe thead th {\n",
       "        text-align: right;\n",
       "    }\n",
       "</style>\n",
       "<table border=\"1\" class=\"dataframe\">\n",
       "  <thead>\n",
       "    <tr style=\"text-align: right;\">\n",
       "      <th></th>\n",
       "      <th>home_team</th>\n",
       "      <th>away_team</th>\n",
       "      <th>Total_Shots</th>\n",
       "      <th>Possession</th>\n",
       "      <th>Player_Rating</th>\n",
       "      <th>winning_team</th>\n",
       "    </tr>\n",
       "  </thead>\n",
       "  <tbody>\n",
       "    <tr>\n",
       "      <th>0</th>\n",
       "      <td>Real Madrid</td>\n",
       "      <td>Ath.Bilbao</td>\n",
       "      <td>0.726087</td>\n",
       "      <td>0.120522</td>\n",
       "      <td>0.409565</td>\n",
       "      <td>2</td>\n",
       "    </tr>\n",
       "    <tr>\n",
       "      <th>1</th>\n",
       "      <td>Real Madrid</td>\n",
       "      <td>Barcelona</td>\n",
       "      <td>0.482609</td>\n",
       "      <td>0.117043</td>\n",
       "      <td>0.340000</td>\n",
       "      <td>0</td>\n",
       "    </tr>\n",
       "    <tr>\n",
       "      <th>2</th>\n",
       "      <td>Real Madrid</td>\n",
       "      <td>Ath.Madrid</td>\n",
       "      <td>0.413043</td>\n",
       "      <td>0.117739</td>\n",
       "      <td>0.340000</td>\n",
       "      <td>1</td>\n",
       "    </tr>\n",
       "    <tr>\n",
       "      <th>3</th>\n",
       "      <td>Real Madrid</td>\n",
       "      <td>Valencia</td>\n",
       "      <td>0.691304</td>\n",
       "      <td>0.120522</td>\n",
       "      <td>0.360870</td>\n",
       "      <td>2</td>\n",
       "    </tr>\n",
       "    <tr>\n",
       "      <th>4</th>\n",
       "      <td>Real Madrid</td>\n",
       "      <td>Sevilla</td>\n",
       "      <td>0.795652</td>\n",
       "      <td>0.121217</td>\n",
       "      <td>0.371304</td>\n",
       "      <td>2</td>\n",
       "    </tr>\n",
       "  </tbody>\n",
       "</table>\n",
       "</div>"
      ],
      "text/plain": [
       "     home_team   away_team  Total_Shots  Possession  Player_Rating  \\\n",
       "0  Real Madrid  Ath.Bilbao     0.726087    0.120522       0.409565   \n",
       "1  Real Madrid   Barcelona     0.482609    0.117043       0.340000   \n",
       "2  Real Madrid  Ath.Madrid     0.413043    0.117739       0.340000   \n",
       "3  Real Madrid    Valencia     0.691304    0.120522       0.360870   \n",
       "4  Real Madrid     Sevilla     0.795652    0.121217       0.371304   \n",
       "\n",
       "  winning_team  \n",
       "0            2  \n",
       "1            0  \n",
       "2            1  \n",
       "3            2  \n",
       "4            2  "
      ]
     },
     "execution_count": 12,
     "metadata": {},
     "output_type": "execute_result"
    }
   ],
   "source": [
    "#Building the model\n",
    "#the prediction label: The winning_team column will show \"2\" if the home team has won, \"1\" if it was a tie, and \"0\" if the away team has won.\n",
    "\n",
    "df_teams = df_teams.reset_index(drop=True)\n",
    "df_teams.loc[df_teams.winning_team == df_teams.home_team,'winning_team']=2\n",
    "df_teams.loc[df_teams.winning_team == 'Draw', 'winning_team']=1\n",
    "df_teams.loc[df_teams.winning_team == df_teams.away_team, 'winning_team']=0\n",
    "\n",
    "df_teams.head()"
   ]
  },
  {
   "cell_type": "code",
   "execution_count": 13,
   "metadata": {},
   "outputs": [],
   "source": [
    "#convert home team and away team from categorical variables to continous inputs \n",
    "# Get dummy variables\n",
    "final = pd.get_dummies(df_teams, prefix=['home_team', 'away_team'], columns=['home_team', 'away_team'])\n",
    "\n",
    "# Separate X and y sets\n",
    "X = final.drop(['winning_team'], axis=1)\n",
    "y = final[\"winning_team\"]\n",
    "y = y.astype('int')\n",
    "\n",
    "# Separate train and test sets\n",
    "X_train, X_test, y_train, y_test = train_test_split(X, y, test_size=0.30, random_state=42)"
   ]
  },
  {
   "cell_type": "code",
   "execution_count": 14,
   "metadata": {},
   "outputs": [
    {
     "data": {
      "text/html": [
       "<div>\n",
       "<style scoped>\n",
       "    .dataframe tbody tr th:only-of-type {\n",
       "        vertical-align: middle;\n",
       "    }\n",
       "\n",
       "    .dataframe tbody tr th {\n",
       "        vertical-align: top;\n",
       "    }\n",
       "\n",
       "    .dataframe thead th {\n",
       "        text-align: right;\n",
       "    }\n",
       "</style>\n",
       "<table border=\"1\" class=\"dataframe\">\n",
       "  <thead>\n",
       "    <tr style=\"text-align: right;\">\n",
       "      <th></th>\n",
       "      <th>Total_Shots</th>\n",
       "      <th>Possession</th>\n",
       "      <th>Player_Rating</th>\n",
       "      <th>winning_team</th>\n",
       "      <th>home_team_Ath.Bilbao</th>\n",
       "      <th>home_team_Ath.Madrid</th>\n",
       "      <th>home_team_Barcelona</th>\n",
       "      <th>home_team_Eibar</th>\n",
       "      <th>home_team_Espanyol</th>\n",
       "      <th>home_team_Real Madrid</th>\n",
       "      <th>...</th>\n",
       "      <th>away_team_Ath.Bilbao</th>\n",
       "      <th>away_team_Ath.Madrid</th>\n",
       "      <th>away_team_Barcelona</th>\n",
       "      <th>away_team_Eibar</th>\n",
       "      <th>away_team_Espanyol</th>\n",
       "      <th>away_team_Real Madrid</th>\n",
       "      <th>away_team_Real Sociedad</th>\n",
       "      <th>away_team_Sevilla</th>\n",
       "      <th>away_team_Valencia</th>\n",
       "      <th>away_team_Villareal</th>\n",
       "    </tr>\n",
       "  </thead>\n",
       "  <tbody>\n",
       "    <tr>\n",
       "      <th>0</th>\n",
       "      <td>0.726087</td>\n",
       "      <td>0.120522</td>\n",
       "      <td>0.409565</td>\n",
       "      <td>2</td>\n",
       "      <td>0</td>\n",
       "      <td>0</td>\n",
       "      <td>0</td>\n",
       "      <td>0</td>\n",
       "      <td>0</td>\n",
       "      <td>1</td>\n",
       "      <td>...</td>\n",
       "      <td>1</td>\n",
       "      <td>0</td>\n",
       "      <td>0</td>\n",
       "      <td>0</td>\n",
       "      <td>0</td>\n",
       "      <td>0</td>\n",
       "      <td>0</td>\n",
       "      <td>0</td>\n",
       "      <td>0</td>\n",
       "      <td>0</td>\n",
       "    </tr>\n",
       "    <tr>\n",
       "      <th>1</th>\n",
       "      <td>0.482609</td>\n",
       "      <td>0.117043</td>\n",
       "      <td>0.340000</td>\n",
       "      <td>0</td>\n",
       "      <td>0</td>\n",
       "      <td>0</td>\n",
       "      <td>0</td>\n",
       "      <td>0</td>\n",
       "      <td>0</td>\n",
       "      <td>1</td>\n",
       "      <td>...</td>\n",
       "      <td>0</td>\n",
       "      <td>0</td>\n",
       "      <td>1</td>\n",
       "      <td>0</td>\n",
       "      <td>0</td>\n",
       "      <td>0</td>\n",
       "      <td>0</td>\n",
       "      <td>0</td>\n",
       "      <td>0</td>\n",
       "      <td>0</td>\n",
       "    </tr>\n",
       "    <tr>\n",
       "      <th>2</th>\n",
       "      <td>0.413043</td>\n",
       "      <td>0.117739</td>\n",
       "      <td>0.340000</td>\n",
       "      <td>1</td>\n",
       "      <td>0</td>\n",
       "      <td>0</td>\n",
       "      <td>0</td>\n",
       "      <td>0</td>\n",
       "      <td>0</td>\n",
       "      <td>1</td>\n",
       "      <td>...</td>\n",
       "      <td>0</td>\n",
       "      <td>1</td>\n",
       "      <td>0</td>\n",
       "      <td>0</td>\n",
       "      <td>0</td>\n",
       "      <td>0</td>\n",
       "      <td>0</td>\n",
       "      <td>0</td>\n",
       "      <td>0</td>\n",
       "      <td>0</td>\n",
       "    </tr>\n",
       "    <tr>\n",
       "      <th>3</th>\n",
       "      <td>0.691304</td>\n",
       "      <td>0.120522</td>\n",
       "      <td>0.360870</td>\n",
       "      <td>2</td>\n",
       "      <td>0</td>\n",
       "      <td>0</td>\n",
       "      <td>0</td>\n",
       "      <td>0</td>\n",
       "      <td>0</td>\n",
       "      <td>1</td>\n",
       "      <td>...</td>\n",
       "      <td>0</td>\n",
       "      <td>0</td>\n",
       "      <td>0</td>\n",
       "      <td>0</td>\n",
       "      <td>0</td>\n",
       "      <td>0</td>\n",
       "      <td>0</td>\n",
       "      <td>0</td>\n",
       "      <td>1</td>\n",
       "      <td>0</td>\n",
       "    </tr>\n",
       "    <tr>\n",
       "      <th>4</th>\n",
       "      <td>0.795652</td>\n",
       "      <td>0.121217</td>\n",
       "      <td>0.371304</td>\n",
       "      <td>2</td>\n",
       "      <td>0</td>\n",
       "      <td>0</td>\n",
       "      <td>0</td>\n",
       "      <td>0</td>\n",
       "      <td>0</td>\n",
       "      <td>1</td>\n",
       "      <td>...</td>\n",
       "      <td>0</td>\n",
       "      <td>0</td>\n",
       "      <td>0</td>\n",
       "      <td>0</td>\n",
       "      <td>0</td>\n",
       "      <td>0</td>\n",
       "      <td>0</td>\n",
       "      <td>1</td>\n",
       "      <td>0</td>\n",
       "      <td>0</td>\n",
       "    </tr>\n",
       "  </tbody>\n",
       "</table>\n",
       "<p>5 rows × 24 columns</p>\n",
       "</div>"
      ],
      "text/plain": [
       "   Total_Shots  Possession  Player_Rating winning_team  home_team_Ath.Bilbao  \\\n",
       "0     0.726087    0.120522       0.409565            2                     0   \n",
       "1     0.482609    0.117043       0.340000            0                     0   \n",
       "2     0.413043    0.117739       0.340000            1                     0   \n",
       "3     0.691304    0.120522       0.360870            2                     0   \n",
       "4     0.795652    0.121217       0.371304            2                     0   \n",
       "\n",
       "   home_team_Ath.Madrid  home_team_Barcelona  home_team_Eibar  \\\n",
       "0                     0                    0                0   \n",
       "1                     0                    0                0   \n",
       "2                     0                    0                0   \n",
       "3                     0                    0                0   \n",
       "4                     0                    0                0   \n",
       "\n",
       "   home_team_Espanyol  home_team_Real Madrid  ...  away_team_Ath.Bilbao  \\\n",
       "0                   0                      1  ...                     1   \n",
       "1                   0                      1  ...                     0   \n",
       "2                   0                      1  ...                     0   \n",
       "3                   0                      1  ...                     0   \n",
       "4                   0                      1  ...                     0   \n",
       "\n",
       "   away_team_Ath.Madrid  away_team_Barcelona  away_team_Eibar  \\\n",
       "0                     0                    0                0   \n",
       "1                     0                    1                0   \n",
       "2                     1                    0                0   \n",
       "3                     0                    0                0   \n",
       "4                     0                    0                0   \n",
       "\n",
       "   away_team_Espanyol  away_team_Real Madrid  away_team_Real Sociedad  \\\n",
       "0                   0                      0                        0   \n",
       "1                   0                      0                        0   \n",
       "2                   0                      0                        0   \n",
       "3                   0                      0                        0   \n",
       "4                   0                      0                        0   \n",
       "\n",
       "   away_team_Sevilla  away_team_Valencia  away_team_Villareal  \n",
       "0                  0                   0                    0  \n",
       "1                  0                   0                    0  \n",
       "2                  0                   0                    0  \n",
       "3                  0                   1                    0  \n",
       "4                  1                   0                    0  \n",
       "\n",
       "[5 rows x 24 columns]"
      ]
     },
     "execution_count": 14,
     "metadata": {},
     "output_type": "execute_result"
    }
   ],
   "source": [
    "final.head()"
   ]
  },
  {
   "attachments": {},
   "cell_type": "markdown",
   "metadata": {},
   "source": [
    "## LOGISTIC REGRESSION"
   ]
  },
  {
   "cell_type": "code",
   "execution_count": 31,
   "metadata": {},
   "outputs": [
    {
     "name": "stdout",
     "output_type": "stream",
     "text": [
      "Training set accuracy:  0.565\n",
      "Test set accuracy:  0.563\n"
     ]
    },
    {
     "data": {
      "text/plain": [
       "0.562962962962963"
      ]
     },
     "execution_count": 31,
     "metadata": {},
     "output_type": "execute_result"
    }
   ],
   "source": [
    "from sklearn.linear_model import LogisticRegression\n",
    "logreg = LogisticRegression()\n",
    "logreg.fit(X_train, y_train)\n",
    "pp=logreg.predict(X_test)\n",
    "hist = logreg.score(X_train, y_train,)\n",
    "score2 = logreg.score(X_test, y_test)\n",
    "\n",
    "print(\"Training set accuracy: \", '%.3f'%(hist))\n",
    "print(\"Test set accuracy: \", '%.3f'%(score2))\n",
    "acc0=accuracy_score(pp,y_test)\n",
    "acc0"
   ]
  },
  {
   "attachments": {},
   "cell_type": "markdown",
   "metadata": {},
   "source": [
    "## Random Forest"
   ]
  },
  {
   "cell_type": "code",
   "execution_count": 32,
   "metadata": {},
   "outputs": [
    {
     "data": {
      "text/plain": [
       "0.8407407407407408"
      ]
     },
     "execution_count": 32,
     "metadata": {},
     "output_type": "execute_result"
    }
   ],
   "source": [
    "meow = RandomForestClassifier()\n",
    "meow.fit(X_train, y_train)\n",
    "predictions = meow.predict(X_test)\n",
    "from sklearn.metrics import accuracy_score\n",
    "acc1=accuracy_score(predictions,y_test)\n",
    "acc1"
   ]
  },
  {
   "attachments": {},
   "cell_type": "markdown",
   "metadata": {},
   "source": [
    "## SVM"
   ]
  },
  {
   "cell_type": "code",
   "execution_count": 33,
   "metadata": {},
   "outputs": [
    {
     "data": {
      "text/plain": [
       "0.5518518518518518"
      ]
     },
     "execution_count": 33,
     "metadata": {},
     "output_type": "execute_result"
    }
   ],
   "source": [
    "from sklearn import svm\n",
    "model = svm.SVC()\n",
    "model.fit(X_train, y_train)\n",
    "\n",
    "\n",
    "predict = model.predict(X_test)\n",
    "\n",
    "acc2=accuracy_score(predict,y_test)\n",
    "acc2"
   ]
  },
  {
   "attachments": {},
   "cell_type": "markdown",
   "metadata": {},
   "source": [
    "## KNN"
   ]
  },
  {
   "cell_type": "code",
   "execution_count": 34,
   "metadata": {},
   "outputs": [
    {
     "data": {
      "text/plain": [
       "0.5444444444444444"
      ]
     },
     "execution_count": 34,
     "metadata": {},
     "output_type": "execute_result"
    }
   ],
   "source": [
    "from sklearn.neighbors import KNeighborsClassifier\n",
    "model1 = KNeighborsClassifier(n_neighbors=3)\n",
    "model1.fit(X_train, y_train)\n",
    "\n",
    "\n",
    "predict1 = model1.predict(X_test)\n",
    "acc3=accuracy_score(predict1,y_test)\n",
    "acc3"
   ]
  },
  {
   "attachments": {},
   "cell_type": "markdown",
   "metadata": {},
   "source": [
    "## ADABOOST"
   ]
  },
  {
   "cell_type": "code",
   "execution_count": 36,
   "metadata": {},
   "outputs": [
    {
     "data": {
      "text/plain": [
       "0.5444444444444444"
      ]
     },
     "execution_count": 36,
     "metadata": {},
     "output_type": "execute_result"
    }
   ],
   "source": [
    "from sklearn.ensemble import AdaBoostClassifier\n",
    "from sklearn.tree import DecisionTreeClassifier\n",
    "\n",
    "base_classifier = DecisionTreeClassifier(max_depth=1)\n",
    "\n",
    "# Create and train the AdaBoost model\n",
    "model2 = AdaBoostClassifier(base_estimator=base_classifier, n_estimators=100)\n",
    "model2.fit(X_train, y_train)\n",
    "\n",
    "# Use the model to make predictions\n",
    "predict2 = model2.predict(X_test)\n",
    "acc4=accuracy_score(predict2,y_test)\n",
    "acc4"
   ]
  },
  {
   "attachments": {},
   "cell_type": "markdown",
   "metadata": {},
   "source": [
    "## Decision Tree"
   ]
  },
  {
   "cell_type": "code",
   "execution_count": 39,
   "metadata": {},
   "outputs": [
    {
     "data": {
      "text/plain": [
       "0.8629629629629629"
      ]
     },
     "execution_count": 39,
     "metadata": {},
     "output_type": "execute_result"
    }
   ],
   "source": [
    "from sklearn.tree import DecisionTreeClassifier\n",
    "dtc=DecisionTreeClassifier()\n",
    "dtc.fit(X_train,y_train)\n",
    "dtcpred=dtc.predict(X_test)\n",
    "acc5=accuracy_score(dtcpred,y_test)\n",
    "acc5"
   ]
  },
  {
   "attachments": {},
   "cell_type": "markdown",
   "metadata": {},
   "source": [
    "## DTC HAS THE BEST ACCURACY SO WE PROCEED WITH IT \n"
   ]
  },
  {
   "cell_type": "code",
   "execution_count": null,
   "metadata": {},
   "outputs": [],
   "source": [
    "#adding Fifa rankings\n",
    "\n",
    "# Loading new datasets\n",
    "ranking = pd.read_csv('rank.csv') \n",
    "fixtures = pd.read_csv('fix.csv')\n",
    "fixtures=pd.DataFrame( [['Ath.Bilbao','Ath.Madrid',None ],\n",
    "                             ],columns=fixtures.columns)\n",
    "\n",
    "# List for storing the group stage games\n",
    "pred_set = []"
   ]
  },
  {
   "cell_type": "code",
   "execution_count": 21,
   "metadata": {},
   "outputs": [
    {
     "data": {
      "text/html": [
       "<div>\n",
       "<style scoped>\n",
       "    .dataframe tbody tr th:only-of-type {\n",
       "        vertical-align: middle;\n",
       "    }\n",
       "\n",
       "    .dataframe tbody tr th {\n",
       "        vertical-align: top;\n",
       "    }\n",
       "\n",
       "    .dataframe thead th {\n",
       "        text-align: right;\n",
       "    }\n",
       "</style>\n",
       "<table border=\"1\" class=\"dataframe\">\n",
       "  <thead>\n",
       "    <tr style=\"text-align: right;\">\n",
       "      <th></th>\n",
       "      <th>Home Team</th>\n",
       "      <th>first_position</th>\n",
       "      <th>second_position</th>\n",
       "      <th>Away Team</th>\n",
       "      <th>Result</th>\n",
       "    </tr>\n",
       "  </thead>\n",
       "  <tbody>\n",
       "    <tr>\n",
       "      <th>0</th>\n",
       "      <td>Ath.Bilbao</td>\n",
       "      <td>10</td>\n",
       "      <td>3</td>\n",
       "      <td>Ath.Madrid</td>\n",
       "      <td>None</td>\n",
       "    </tr>\n",
       "  </tbody>\n",
       "</table>\n",
       "</div>"
      ],
      "text/plain": [
       "    Home Team  first_position  second_position   Away Team Result\n",
       "0  Ath.Bilbao              10                3  Ath.Madrid   None"
      ]
     },
     "execution_count": 21,
     "metadata": {},
     "output_type": "execute_result"
    }
   ],
   "source": [
    "# Create new columns with ranking position of each team\n",
    "fixtures.insert(1, 'first_position', fixtures['Home Team'].map(ranking.set_index('Team')['Position']))\n",
    "fixtures.insert(2, 'second_position', fixtures['Away Team'].map(ranking.set_index('Team')['Position']))\n",
    "\n",
    "# We only need the group stage games, so we have to slice the dataset\n",
    "fixtures = fixtures.iloc[:48, :]\n",
    "fixtures.tail()"
   ]
  },
  {
   "cell_type": "code",
   "execution_count": 22,
   "metadata": {
    "scrolled": true
   },
   "outputs": [
    {
     "data": {
      "text/html": [
       "<div>\n",
       "<style scoped>\n",
       "    .dataframe tbody tr th:only-of-type {\n",
       "        vertical-align: middle;\n",
       "    }\n",
       "\n",
       "    .dataframe tbody tr th {\n",
       "        vertical-align: top;\n",
       "    }\n",
       "\n",
       "    .dataframe thead th {\n",
       "        text-align: right;\n",
       "    }\n",
       "</style>\n",
       "<table border=\"1\" class=\"dataframe\">\n",
       "  <thead>\n",
       "    <tr style=\"text-align: right;\">\n",
       "      <th></th>\n",
       "      <th>home_team</th>\n",
       "      <th>away_team</th>\n",
       "      <th>winning_team</th>\n",
       "    </tr>\n",
       "  </thead>\n",
       "  <tbody>\n",
       "    <tr>\n",
       "      <th>0</th>\n",
       "      <td>Ath.Bilbao</td>\n",
       "      <td>Ath.Madrid</td>\n",
       "      <td>None</td>\n",
       "    </tr>\n",
       "  </tbody>\n",
       "</table>\n",
       "</div>"
      ],
      "text/plain": [
       "    home_team   away_team winning_team\n",
       "0  Ath.Bilbao  Ath.Madrid         None"
      ]
     },
     "execution_count": 22,
     "metadata": {},
     "output_type": "execute_result"
    }
   ],
   "source": [
    "# Loop to add teams to new prediction dataset based on the ranking position of each team\n",
    "for index, row in fixtures.iterrows():\n",
    "    if row['first_position'] < row['second_position']:\n",
    "        pred_set.append({'home_team': row['Home Team'], 'away_team': row['Away Team'], 'winning_team': None})\n",
    "    else:\n",
    "        pred_set.append({'home_team': row['Home Team'], 'away_team': row['Away Team'], 'winning_team': None})\n",
    "        \n",
    "pred_set = pd.DataFrame(pred_set)\n",
    "backup_pred_set = pred_set\n",
    "\n",
    "pred_set"
   ]
  },
  {
   "cell_type": "code",
   "execution_count": 23,
   "metadata": {},
   "outputs": [
    {
     "data": {
      "text/plain": [
       "pandas.core.frame.DataFrame"
      ]
     },
     "execution_count": 23,
     "metadata": {},
     "output_type": "execute_result"
    }
   ],
   "source": [
    "type(pred_set)"
   ]
  },
  {
   "cell_type": "code",
   "execution_count": 24,
   "metadata": {},
   "outputs": [
    {
     "data": {
      "text/html": [
       "<div>\n",
       "<style scoped>\n",
       "    .dataframe tbody tr th:only-of-type {\n",
       "        vertical-align: middle;\n",
       "    }\n",
       "\n",
       "    .dataframe tbody tr th {\n",
       "        vertical-align: top;\n",
       "    }\n",
       "\n",
       "    .dataframe thead th {\n",
       "        text-align: right;\n",
       "    }\n",
       "</style>\n",
       "<table border=\"1\" class=\"dataframe\">\n",
       "  <thead>\n",
       "    <tr style=\"text-align: right;\">\n",
       "      <th></th>\n",
       "      <th>Total_Shots</th>\n",
       "      <th>Possession</th>\n",
       "      <th>Player_Rating</th>\n",
       "      <th>home_team_Ath.Bilbao</th>\n",
       "      <th>home_team_Ath.Madrid</th>\n",
       "      <th>home_team_Barcelona</th>\n",
       "      <th>home_team_Eibar</th>\n",
       "      <th>home_team_Espanyol</th>\n",
       "      <th>home_team_Real Madrid</th>\n",
       "      <th>home_team_Real Sociedad</th>\n",
       "      <th>...</th>\n",
       "      <th>away_team_Ath.Bilbao</th>\n",
       "      <th>away_team_Ath.Madrid</th>\n",
       "      <th>away_team_Barcelona</th>\n",
       "      <th>away_team_Eibar</th>\n",
       "      <th>away_team_Espanyol</th>\n",
       "      <th>away_team_Real Madrid</th>\n",
       "      <th>away_team_Real Sociedad</th>\n",
       "      <th>away_team_Sevilla</th>\n",
       "      <th>away_team_Valencia</th>\n",
       "      <th>away_team_Villareal</th>\n",
       "    </tr>\n",
       "  </thead>\n",
       "  <tbody>\n",
       "    <tr>\n",
       "      <th>0</th>\n",
       "      <td>0</td>\n",
       "      <td>0</td>\n",
       "      <td>0</td>\n",
       "      <td>1</td>\n",
       "      <td>0</td>\n",
       "      <td>0</td>\n",
       "      <td>0</td>\n",
       "      <td>0</td>\n",
       "      <td>0</td>\n",
       "      <td>0</td>\n",
       "      <td>...</td>\n",
       "      <td>0</td>\n",
       "      <td>1</td>\n",
       "      <td>0</td>\n",
       "      <td>0</td>\n",
       "      <td>0</td>\n",
       "      <td>0</td>\n",
       "      <td>0</td>\n",
       "      <td>0</td>\n",
       "      <td>0</td>\n",
       "      <td>0</td>\n",
       "    </tr>\n",
       "  </tbody>\n",
       "</table>\n",
       "<p>1 rows × 23 columns</p>\n",
       "</div>"
      ],
      "text/plain": [
       "   Total_Shots  Possession  Player_Rating  home_team_Ath.Bilbao  \\\n",
       "0            0           0              0                     1   \n",
       "\n",
       "   home_team_Ath.Madrid  home_team_Barcelona  home_team_Eibar  \\\n",
       "0                     0                    0                0   \n",
       "\n",
       "   home_team_Espanyol  home_team_Real Madrid  home_team_Real Sociedad  ...  \\\n",
       "0                   0                      0                        0  ...   \n",
       "\n",
       "   away_team_Ath.Bilbao  away_team_Ath.Madrid  away_team_Barcelona  \\\n",
       "0                     0                     1                    0   \n",
       "\n",
       "   away_team_Eibar  away_team_Espanyol  away_team_Real Madrid  \\\n",
       "0                0                   0                      0   \n",
       "\n",
       "   away_team_Real Sociedad  away_team_Sevilla  away_team_Valencia  \\\n",
       "0                        0                  0                   0   \n",
       "\n",
       "   away_team_Villareal  \n",
       "0                    0  \n",
       "\n",
       "[1 rows x 23 columns]"
      ]
     },
     "execution_count": 24,
     "metadata": {},
     "output_type": "execute_result"
    }
   ],
   "source": [
    "# Get dummy variables and drop winning_team column\n",
    "pred_set = pd.get_dummies(pred_set, prefix=['home_team', 'away_team'], columns=['home_team', 'away_team'])\n",
    "\n",
    "# Add missing columns compared to the model's training dataset\n",
    "missing_cols = set(final.columns) - set(pred_set.columns)\n",
    "for c in missing_cols:\n",
    "    pred_set[c] = 0\n",
    "pred_set = pred_set[final.columns]\n",
    "\n",
    "# Remove winning team column\n",
    "pred_set = pred_set.drop(['winning_team'], axis=1)\n",
    "\n",
    "pred_set.head()"
   ]
  },
  {
   "cell_type": "code",
   "execution_count": 25,
   "metadata": {},
   "outputs": [
    {
     "name": "stdout",
     "output_type": "stream",
     "text": [
      "<class 'pandas.core.frame.DataFrame'>\n",
      "RangeIndex: 1 entries, 0 to 0\n",
      "Data columns (total 23 columns):\n",
      " #   Column                   Non-Null Count  Dtype\n",
      "---  ------                   --------------  -----\n",
      " 0   Total_Shots              1 non-null      int64\n",
      " 1   Possession               1 non-null      int64\n",
      " 2   Player_Rating            1 non-null      int64\n",
      " 3   home_team_Ath.Bilbao     1 non-null      uint8\n",
      " 4   home_team_Ath.Madrid     1 non-null      int64\n",
      " 5   home_team_Barcelona      1 non-null      int64\n",
      " 6   home_team_Eibar          1 non-null      int64\n",
      " 7   home_team_Espanyol       1 non-null      int64\n",
      " 8   home_team_Real Madrid    1 non-null      int64\n",
      " 9   home_team_Real Sociedad  1 non-null      int64\n",
      " 10  home_team_Sevilla        1 non-null      int64\n",
      " 11  home_team_Valencia       1 non-null      int64\n",
      " 12  home_team_Villareal      1 non-null      int64\n",
      " 13  away_team_Ath.Bilbao     1 non-null      int64\n",
      " 14  away_team_Ath.Madrid     1 non-null      uint8\n",
      " 15  away_team_Barcelona      1 non-null      int64\n",
      " 16  away_team_Eibar          1 non-null      int64\n",
      " 17  away_team_Espanyol       1 non-null      int64\n",
      " 18  away_team_Real Madrid    1 non-null      int64\n",
      " 19  away_team_Real Sociedad  1 non-null      int64\n",
      " 20  away_team_Sevilla        1 non-null      int64\n",
      " 21  away_team_Valencia       1 non-null      int64\n",
      " 22  away_team_Villareal      1 non-null      int64\n",
      "dtypes: int64(21), uint8(2)\n",
      "memory usage: 298.0 bytes\n"
     ]
    }
   ],
   "source": [
    "pred_set.info()"
   ]
  },
  {
   "cell_type": "code",
   "execution_count": 26,
   "metadata": {},
   "outputs": [],
   "source": [
    "## PREDICTING USING LOGISTIC REGRESSION\n",
    "\n",
    "def predictwin(my_dic):\n",
    "    print(my_dic)\n",
    "    def win_loss(predictions):\n",
    "        if predictions == 2:\n",
    "            return \"Winner: \" + my_dic['home_team']\n",
    "        elif predictions == 1:\n",
    "            return \"Draw\"\n",
    "        elif predictions == 0:\n",
    "            return \"Winner: \" + my_dic['away_team']\n",
    "    dpred = pd.DataFrame(my_dic, index = [0])\n",
    "    # Get dummy variables and drop winning_team column\n",
    "    dpred = pd.get_dummies(dpred, prefix=['home_team', 'away_team'], columns=['home_team', 'away_team'])\n",
    "    \n",
    "    # Add missing columns compared to the model's training dataset\n",
    "    missing_cols = set(final.columns) - set(dpred.columns)\n",
    "    for c in missing_cols:\n",
    "        dpred[c] = 0\n",
    "    dpred = dpred[final.columns]\n",
    "    \n",
    "    # Remove winning team column\n",
    "    dpred = dpred.drop(['winning_team'], axis=1)\n",
    "    #group matches\n",
    "    predictions = logreg.predict(dpred)\n",
    "    match = my_dic['home_team'] + \" vs \" + my_dic['away_team']\n",
    "    winner = win_loss(predictions)\n",
    "\n",
    "    pwin_home = ' Probability of ' + my_dic['home_team'] + ' winning: ''%.3f'%((logreg.predict_proba(dpred)[0][2])*100)+'%'\n",
    "    pdraw = 'Probability of match Draw: ' '%.3f'%((logreg.predict_proba(dpred)[0][1])*100)+'%'\n",
    "    pwin_away = ' Probability of ' + my_dic['away_team'] + ' winning: ' '%.3f'%((logreg.predict_proba(dpred)[0][0])*100)+'%'\n",
    "    my_new_dic = {'match':match, 'winner':winner,'pwin_home':pwin_home, 'pdraw':pdraw,'pwin_away':pwin_away}\n",
    "    return my_new_dic"
   ]
  },
  {
   "cell_type": "code",
   "execution_count": 27,
   "metadata": {
    "scrolled": true
   },
   "outputs": [],
   "source": [
    "## PREDICTING USING RFC\n",
    "def predictwin(my_dic):\n",
    "    print(my_dic)\n",
    "    def win_loss(predictions):\n",
    "        if predictions == 2:\n",
    "            return \"Winner: \" + my_dic['home_team']\n",
    "        elif predictions == 1:\n",
    "            return \"Draw\"\n",
    "        elif predictions == 0:\n",
    "            return \"Winner: \" + my_dic['away_team']\n",
    "    dpred = pd.DataFrame(my_dic, index = [0])\n",
    "    # Get dummy variables and drop winning_team column\n",
    "    dpred = pd.get_dummies(dpred, prefix=['home_team', 'away_team'], columns=['home_team', 'away_team'])\n",
    "    \n",
    "    # Add missing columns compared to the model's training dataset\n",
    "    missing_cols = set(final.columns) - set(dpred.columns)\n",
    "    for c in missing_cols:\n",
    "        dpred[c] = 0\n",
    "    dpred = dpred[final.columns]\n",
    "    \n",
    "    # Remove winning team column\n",
    "    dpred = dpred.drop(['winning_team'], axis=1)\n",
    "    #group matches\n",
    "    predictions = meow.predict(dpred)\n",
    "    match = my_dic['home_team'] + \" vs \" + my_dic['away_team']\n",
    "    winner = win_loss(predictions)\n",
    "\n",
    "    pwin_home = ' Probability of ' + my_dic['home_team'] + ' winning: ''%.3f'%((meow.predict_proba(dpred)[0][2])*100)+'%'\n",
    "    pdraw = 'Probability of match Draw: ' '%.3f'%((logreg.predict_proba(dpred)[0][1])*100)+'%'\n",
    "    pwin_away = ' Probability of ' + my_dic['away_team'] + ' winning: ' '%.3f'%((meow.predict_proba(dpred)[0][0])*100)+'%'\n",
    "    my_new_dic = {'match':match, 'winner':winner,'pwin_home':pwin_home, 'pdraw':pdraw,'pwin_away':pwin_away}\n",
    "    return my_new_dic"
   ]
  },
  {
   "cell_type": "code",
   "execution_count": 40,
   "metadata": {},
   "outputs": [],
   "source": [
    "## PREDICTING USING dtc\n",
    "def predictwin(my_dic):\n",
    "    print(my_dic)\n",
    "    def win_loss(predictions):\n",
    "        if predictions == 2:\n",
    "            return \"Winner: \" + my_dic['home_team']\n",
    "        elif predictions == 1:\n",
    "            return \"Draw\"\n",
    "        elif predictions == 0:\n",
    "            return \"Winner: \" + my_dic['away_team']\n",
    "    dpred = pd.DataFrame(my_dic, index = [0])\n",
    "    # Get dummy variables and drop winning_team column\n",
    "    dpred = pd.get_dummies(dpred, prefix=['home_team', 'away_team'], columns=['home_team', 'away_team'])\n",
    "    \n",
    "    # Add missing columns compared to the model's training dataset\n",
    "    missing_cols = set(final.columns) - set(dpred.columns)\n",
    "    for c in missing_cols:\n",
    "        dpred[c] = 0\n",
    "    dpred = dpred[final.columns]\n",
    "    \n",
    "    # Remove winning team column\n",
    "    dpred = dpred.drop(['winning_team'], axis=1)\n",
    "    #group matches\n",
    "    predictions = dtc.predict(dpred)\n",
    "    match = my_dic['home_team'] + \" vs \" + my_dic['away_team']\n",
    "    winner = win_loss(predictions)\n",
    "\n",
    "    pwin_home = ' Probability of ' + my_dic['home_team'] + ' winning: ''%.3f'%((dtc.predict_proba(dpred)[0][2])*100)+'%'\n",
    "    pdraw = 'Probability of match Draw: ' '%.3f'%((dtc.predict_proba(dpred)[0][1])*100)+'%'\n",
    "    pwin_away = ' Probability of ' + my_dic['away_team'] + ' winning: ' '%.3f'%((dtc.predict_proba(dpred)[0][0])*100)+'%'\n",
    "    my_new_dic = {'match':match, 'winner':winner,'pwin_home':pwin_home, 'pdraw':pdraw,'pwin_away':pwin_away}\n",
    "    return my_new_dic"
   ]
  },
  {
   "cell_type": "code",
   "execution_count": 42,
   "metadata": {},
   "outputs": [
    {
     "name": "stderr",
     "output_type": "stream",
     "text": [
      "C:\\ProgramData\\Anaconda3\\lib\\site-packages\\seaborn\\_decorators.py:36: FutureWarning: Pass the following variables as keyword args: x, y. From version 0.12, the only valid positional argument will be `data`, and passing other arguments without an explicit keyword will result in an error or misinterpretation.\n",
      "  warnings.warn(\n"
     ]
    },
    {
     "data": {
      "text/plain": [
       "<AxesSubplot:title={'center':'Accuracy of Various Classifiers'}, xlabel='Classifier', ylabel='Accuracy %'>"
      ]
     },
     "execution_count": 42,
     "metadata": {},
     "output_type": "execute_result"
    },
    {
     "data": {
      "image/png": "[encoded data removed]",
      "text/plain": [
       "<Figure size 1152x576 with 1 Axes>"
      ]
     },
     "metadata": {},
     "output_type": "display_data"
    }
   ],
   "source": [
    "y=[i*100 for i in [acc0,acc1,acc2,acc3,acc4,acc5]]\n",
    "x=['Logistic Regression','Random Forest Classifier','Support Vector Machine','K Nearest Neighbor','AdaBoost','DecisionTreeCassifier']\n",
    "plt.figure(figsize = (16,8))\n",
    "compareAcc=sns.barplot(x,y)\n",
    "compareAcc.set(title='Accuracy of Various Classifiers',xlabel='Classifier',ylabel='Accuracy %')\n",
    "plt.xticks(rotation=90)\n",
    "plt.ylim(50, 90)\n",
    "compareAcc"
   ]
  },
  {
   "cell_type": "code",
   "execution_count": null,
   "metadata": {},
   "outputs": [],
   "source": []
  },
  {
   "cell_type": "code",
   "execution_count": null,
   "metadata": {
    "scrolled": true
   },
   "outputs": [],
   "source": []
  },
  {
   "cell_type": "code",
   "execution_count": null,
   "metadata": {},
   "outputs": [],
   "source": []
  },
  {
   "cell_type": "code",
   "execution_count": null,
   "metadata": {
    "scrolled": true
   },
   "outputs": [],
   "source": []
  },
  {
   "cell_type": "code",
   "execution_count": null,
   "metadata": {
    "scrolled": true
   },
   "outputs": [],
   "source": []
  },
  {
   "cell_type": "code",
   "execution_count": null,
   "metadata": {},
   "outputs": [],
   "source": []
  },
  {
   "cell_type": "code",
   "execution_count": null,
   "metadata": {},
   "outputs": [],
   "source": []
  },
  {
   "cell_type": "code",
   "execution_count": null,
   "metadata": {
    "scrolled": true
   },
   "outputs": [],
   "source": []
  },
  {
   "cell_type": "code",
   "execution_count": null,
   "metadata": {},
   "outputs": [],
   "source": []
  },
  {
   "cell_type": "code",
   "execution_count": null,
   "metadata": {},
   "outputs": [],
   "source": []
  },
  {
   "cell_type": "code",
   "execution_count": null,
   "metadata": {},
   "outputs": [],
   "source": []
  },
  {
   "cell_type": "code",
   "execution_count": null,
   "metadata": {},
   "outputs": [],
   "source": []
  },
  {
   "cell_type": "code",
   "execution_count": null,
   "metadata": {},
   "outputs": [],
   "source": []
  },
  {
   "cell_type": "code",
   "execution_count": null,
   "metadata": {},
   "outputs": [],
   "source": []
  },
  {
   "cell_type": "code",
   "execution_count": null,
   "metadata": {},
   "outputs": [],
   "source": []
  },
  {
   "cell_type": "code",
   "execution_count": null,
   "metadata": {},
   "outputs": [],
   "source": []
  },
  {
   "cell_type": "code",
   "execution_count": null,
   "metadata": {},
   "outputs": [],
   "source": []
  },
  {
   "cell_type": "code",
   "execution_count": null,
   "metadata": {},
   "outputs": [],
   "source": []
  },
  {
   "cell_type": "code",
   "execution_count": null,
   "metadata": {},
   "outputs": [],
   "source": []
  },
  {
   "cell_type": "code",
   "execution_count": null,
   "metadata": {},
   "outputs": [],
   "source": []
  },
  {
   "cell_type": "code",
   "execution_count": null,
   "metadata": {},
   "outputs": [],
   "source": []
  },
  {
   "cell_type": "code",
   "execution_count": null,
   "metadata": {},
   "outputs": [],
   "source": []
  },
  {
   "cell_type": "code",
   "execution_count": null,
   "metadata": {},
   "outputs": [],
   "source": []
  },
  {
   "cell_type": "code",
   "execution_count": null,
   "metadata": {},
   "outputs": [],
   "source": []
  },
  {
   "cell_type": "code",
   "execution_count": null,
   "metadata": {},
   "outputs": [],
   "source": []
  },
  {
   "cell_type": "code",
   "execution_count": null,
   "metadata": {},
   "outputs": [],
   "source": []
  },
  {
   "cell_type": "code",
   "execution_count": null,
   "metadata": {},
   "outputs": [],
   "source": []
  },
  {
   "cell_type": "code",
   "execution_count": null,
   "metadata": {},
   "outputs": [],
   "source": []
  },
  {
   "cell_type": "code",
   "execution_count": null,
   "metadata": {},
   "outputs": [],
   "source": []
  },
  {
   "cell_type": "code",
   "execution_count": null,
   "metadata": {},
   "outputs": [],
   "source": []
  },
  {
   "cell_type": "code",
   "execution_count": null,
   "metadata": {},
   "outputs": [],
   "source": []
  },
  {
   "cell_type": "code",
   "execution_count": null,
   "metadata": {},
   "outputs": [],
   "source": []
  },
  {
   "cell_type": "code",
   "execution_count": null,
   "metadata": {},
   "outputs": [],
   "source": []
  },
  {
   "cell_type": "code",
   "execution_count": null,
   "metadata": {},
   "outputs": [],
   "source": []
  },
  {
   "cell_type": "code",
   "execution_count": null,
   "metadata": {},
   "outputs": [],
   "source": []
  },
  {
   "cell_type": "code",
   "execution_count": null,
   "metadata": {},
   "outputs": [],
   "source": []
  },
  {
   "cell_type": "code",
   "execution_count": null,
   "metadata": {},
   "outputs": [],
   "source": []
  },
  {
   "cell_type": "code",
   "execution_count": null,
   "metadata": {},
   "outputs": [],
   "source": []
  },
  {
   "cell_type": "code",
   "execution_count": null,
   "metadata": {},
   "outputs": [],
   "source": []
  },
  {
   "cell_type": "code",
   "execution_count": null,
   "metadata": {},
   "outputs": [],
   "source": []
  },
  {
   "cell_type": "code",
   "execution_count": null,
   "metadata": {},
   "outputs": [],
   "source": []
  },
  {
   "cell_type": "code",
   "execution_count": null,
   "metadata": {},
   "outputs": [],
   "source": []
  },
  {
   "cell_type": "code",
   "execution_count": null,
   "metadata": {},
   "outputs": [],
   "source": []
  },
  {
   "cell_type": "code",
   "execution_count": null,
   "metadata": {},
   "outputs": [],
   "source": []
  },
  {
   "cell_type": "code",
   "execution_count": null,
   "metadata": {},
   "outputs": [],
   "source": []
  },
  {
   "cell_type": "code",
   "execution_count": null,
   "metadata": {},
   "outputs": [],
   "source": []
  },
  {
   "cell_type": "code",
   "execution_count": null,
   "metadata": {},
   "outputs": [],
   "source": []
  },
  {
   "cell_type": "code",
   "execution_count": null,
   "metadata": {},
   "outputs": [],
   "source": []
  }
 ],
 "metadata": {
  "kernelspec": {
   "display_name": "Python 3 (ipykernel)",
   "language": "python",
   "name": "python3"
  },
  "language_info": {
   "codemirror_mode": {
    "name": "ipython",
    "version": 3
   },
   "file_extension": ".py",
   "mimetype": "text/x-python",
   "name": "python",
   "nbconvert_exporter": "python",
   "pygments_lexer": "ipython3",
   "version": "3.11.0"
  },
  "vscode": {
   "interpreter": {
    "hash": "5addf786bcd861d1ce5006f23111f8cbb206731e5b61b0a5632ba9e0252558a8"
   }
  }
 },
 "nbformat": 4,
 "nbformat_minor": 2
}
